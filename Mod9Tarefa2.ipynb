{
 "cells": [
  {
   "cell_type": "markdown",
   "metadata": {
    "id": "eYvCczy6lTt7"
   },
   "source": [
    "# Livro para consulta:\n",
    "- https://jakevdp.github.io/PythonDataScienceHandbook/03.08-aggregation-and-grouping.html\n",
    "- https://jakevdp.github.io/PythonDataScienceHandbook/03.09-pivot-tables.html\n",
    "    "
   ]
  },
  {
   "cell_type": "markdown",
   "metadata": {
    "id": "oeWprAfnlTt-"
   },
   "source": [
    "# 1. Importando bibliotecas <a name=\"import\"></a>\n",
    "\n",
    "<div style=\"text-align: right\"\n",
    "     \n",
    "[Voltar ao índice](#Contents)"
   ]
  },
  {
   "cell_type": "code",
   "execution_count": 1,
   "metadata": {
    "ExecuteTime": {
     "end_time": "2021-06-06T21:12:37.298706Z",
     "start_time": "2021-06-06T21:12:36.656481Z"
    },
    "id": "y_9gYudilTt_"
   },
   "outputs": [],
   "source": [
    "import numpy as np\n",
    "import pandas as pd\n",
    "import seaborn as sns\n",
    "import matplotlib.pyplot as plt\n",
    "\n",
    "%matplotlib inline"
   ]
  },
  {
   "cell_type": "markdown",
   "metadata": {
    "id": "-cpxC-IBlTuA"
   },
   "source": [
    "# 2. Carregando o dataframe SINASC <a name=\"read\"></a>\n",
    "<div style=\"text-align: right\"\n",
    "     \n",
    "[Voltar ao índice](#Contents)"
   ]
  },
  {
   "cell_type": "code",
   "execution_count": 2,
   "metadata": {
    "ExecuteTime": {
     "end_time": "2021-06-06T21:12:37.762376Z",
     "start_time": "2021-06-06T21:12:37.728383Z"
    },
    "id": "nQZn7u4DlTuB",
    "outputId": "74b44036-69d9-4139-b291-621d77ed331b",
    "scrolled": true
   },
   "outputs": [
    {
     "data": {
      "text/html": [
       "<div>\n",
       "<style scoped>\n",
       "    .dataframe tbody tr th:only-of-type {\n",
       "        vertical-align: middle;\n",
       "    }\n",
       "\n",
       "    .dataframe tbody tr th {\n",
       "        vertical-align: top;\n",
       "    }\n",
       "\n",
       "    .dataframe thead th {\n",
       "        text-align: right;\n",
       "    }\n",
       "</style>\n",
       "<table border=\"1\" class=\"dataframe\">\n",
       "  <thead>\n",
       "    <tr style=\"text-align: right;\">\n",
       "      <th></th>\n",
       "      <th>ORIGEM</th>\n",
       "      <th>CODESTAB</th>\n",
       "      <th>CODMUNNASC</th>\n",
       "      <th>LOCNASC</th>\n",
       "      <th>IDADEMAE</th>\n",
       "      <th>ESTCIVMAE</th>\n",
       "      <th>ESCMAE</th>\n",
       "      <th>CODOCUPMAE</th>\n",
       "      <th>QTDFILVIVO</th>\n",
       "      <th>QTDFILMORT</th>\n",
       "      <th>...</th>\n",
       "      <th>KOTELCHUCK</th>\n",
       "      <th>CONTADOR</th>\n",
       "      <th>munResStatus</th>\n",
       "      <th>munResTipo</th>\n",
       "      <th>munResNome</th>\n",
       "      <th>munResUf</th>\n",
       "      <th>munResLat</th>\n",
       "      <th>munResLon</th>\n",
       "      <th>munResAlt</th>\n",
       "      <th>munResArea</th>\n",
       "    </tr>\n",
       "  </thead>\n",
       "  <tbody>\n",
       "    <tr>\n",
       "      <th>0</th>\n",
       "      <td>1</td>\n",
       "      <td>2679477.0</td>\n",
       "      <td>110001</td>\n",
       "      <td>1</td>\n",
       "      <td>19</td>\n",
       "      <td>5.0</td>\n",
       "      <td>8 a 11 anos</td>\n",
       "      <td>NaN</td>\n",
       "      <td>0.0</td>\n",
       "      <td>0.0</td>\n",
       "      <td>...</td>\n",
       "      <td>5</td>\n",
       "      <td>1</td>\n",
       "      <td>ATIVO</td>\n",
       "      <td>MUNIC</td>\n",
       "      <td>Alta Floresta D'Oeste</td>\n",
       "      <td>Rondônia</td>\n",
       "      <td>-11.93554</td>\n",
       "      <td>-61.99982</td>\n",
       "      <td>338.0</td>\n",
       "      <td>7067.025</td>\n",
       "    </tr>\n",
       "    <tr>\n",
       "      <th>1</th>\n",
       "      <td>1</td>\n",
       "      <td>2679477.0</td>\n",
       "      <td>110001</td>\n",
       "      <td>1</td>\n",
       "      <td>29</td>\n",
       "      <td>2.0</td>\n",
       "      <td>8 a 11 anos</td>\n",
       "      <td>999992.0</td>\n",
       "      <td>1.0</td>\n",
       "      <td>0.0</td>\n",
       "      <td>...</td>\n",
       "      <td>5</td>\n",
       "      <td>2</td>\n",
       "      <td>ATIVO</td>\n",
       "      <td>MUNIC</td>\n",
       "      <td>Alta Floresta D'Oeste</td>\n",
       "      <td>Rondônia</td>\n",
       "      <td>-11.93554</td>\n",
       "      <td>-61.99982</td>\n",
       "      <td>338.0</td>\n",
       "      <td>7067.025</td>\n",
       "    </tr>\n",
       "    <tr>\n",
       "      <th>2</th>\n",
       "      <td>1</td>\n",
       "      <td>2679477.0</td>\n",
       "      <td>110001</td>\n",
       "      <td>1</td>\n",
       "      <td>37</td>\n",
       "      <td>9.0</td>\n",
       "      <td>8 a 11 anos</td>\n",
       "      <td>513205.0</td>\n",
       "      <td>2.0</td>\n",
       "      <td>0.0</td>\n",
       "      <td>...</td>\n",
       "      <td>5</td>\n",
       "      <td>3</td>\n",
       "      <td>ATIVO</td>\n",
       "      <td>MUNIC</td>\n",
       "      <td>Alta Floresta D'Oeste</td>\n",
       "      <td>Rondônia</td>\n",
       "      <td>-11.93554</td>\n",
       "      <td>-61.99982</td>\n",
       "      <td>338.0</td>\n",
       "      <td>7067.025</td>\n",
       "    </tr>\n",
       "    <tr>\n",
       "      <th>3</th>\n",
       "      <td>1</td>\n",
       "      <td>2516500.0</td>\n",
       "      <td>110001</td>\n",
       "      <td>1</td>\n",
       "      <td>30</td>\n",
       "      <td>5.0</td>\n",
       "      <td>12 anos ou mais</td>\n",
       "      <td>231205.0</td>\n",
       "      <td>0.0</td>\n",
       "      <td>0.0</td>\n",
       "      <td>...</td>\n",
       "      <td>4</td>\n",
       "      <td>4</td>\n",
       "      <td>ATIVO</td>\n",
       "      <td>MUNIC</td>\n",
       "      <td>Alto Alegre dos Parecis</td>\n",
       "      <td>Rondônia</td>\n",
       "      <td>-12.13178</td>\n",
       "      <td>-61.85308</td>\n",
       "      <td>397.0</td>\n",
       "      <td>3958.273</td>\n",
       "    </tr>\n",
       "    <tr>\n",
       "      <th>4</th>\n",
       "      <td>1</td>\n",
       "      <td>2516500.0</td>\n",
       "      <td>110001</td>\n",
       "      <td>1</td>\n",
       "      <td>30</td>\n",
       "      <td>2.0</td>\n",
       "      <td>8 a 11 anos</td>\n",
       "      <td>999992.0</td>\n",
       "      <td>1.0</td>\n",
       "      <td>0.0</td>\n",
       "      <td>...</td>\n",
       "      <td>5</td>\n",
       "      <td>5</td>\n",
       "      <td>ATIVO</td>\n",
       "      <td>MUNIC</td>\n",
       "      <td>Alta Floresta D'Oeste</td>\n",
       "      <td>Rondônia</td>\n",
       "      <td>-11.93554</td>\n",
       "      <td>-61.99982</td>\n",
       "      <td>338.0</td>\n",
       "      <td>7067.025</td>\n",
       "    </tr>\n",
       "  </tbody>\n",
       "</table>\n",
       "<p>5 rows × 69 columns</p>\n",
       "</div>"
      ],
      "text/plain": [
       "   ORIGEM   CODESTAB  CODMUNNASC  LOCNASC  IDADEMAE  ESTCIVMAE  \\\n",
       "0       1  2679477.0      110001        1        19        5.0   \n",
       "1       1  2679477.0      110001        1        29        2.0   \n",
       "2       1  2679477.0      110001        1        37        9.0   \n",
       "3       1  2516500.0      110001        1        30        5.0   \n",
       "4       1  2516500.0      110001        1        30        2.0   \n",
       "\n",
       "            ESCMAE  CODOCUPMAE  QTDFILVIVO  QTDFILMORT  ...  KOTELCHUCK  \\\n",
       "0      8 a 11 anos         NaN         0.0         0.0  ...           5   \n",
       "1      8 a 11 anos    999992.0         1.0         0.0  ...           5   \n",
       "2      8 a 11 anos    513205.0         2.0         0.0  ...           5   \n",
       "3  12 anos ou mais    231205.0         0.0         0.0  ...           4   \n",
       "4      8 a 11 anos    999992.0         1.0         0.0  ...           5   \n",
       "\n",
       "  CONTADOR munResStatus munResTipo               munResNome  munResUf  \\\n",
       "0        1        ATIVO      MUNIC    Alta Floresta D'Oeste  Rondônia   \n",
       "1        2        ATIVO      MUNIC    Alta Floresta D'Oeste  Rondônia   \n",
       "2        3        ATIVO      MUNIC    Alta Floresta D'Oeste  Rondônia   \n",
       "3        4        ATIVO      MUNIC  Alto Alegre dos Parecis  Rondônia   \n",
       "4        5        ATIVO      MUNIC    Alta Floresta D'Oeste  Rondônia   \n",
       "\n",
       "   munResLat munResLon  munResAlt  munResArea  \n",
       "0  -11.93554 -61.99982      338.0    7067.025  \n",
       "1  -11.93554 -61.99982      338.0    7067.025  \n",
       "2  -11.93554 -61.99982      338.0    7067.025  \n",
       "3  -12.13178 -61.85308      397.0    3958.273  \n",
       "4  -11.93554 -61.99982      338.0    7067.025  \n",
       "\n",
       "[5 rows x 69 columns]"
      ]
     },
     "execution_count": 2,
     "metadata": {},
     "output_type": "execute_result"
    }
   ],
   "source": [
    "sinasc_raw = pd.read_csv('SINASC_RO_2019.csv')\n",
    "sinasc_raw.head()"
   ]
  },
  {
   "cell_type": "code",
   "execution_count": 3,
   "metadata": {
    "id": "Pz_6GorclTuC"
   },
   "outputs": [
    {
     "data": {
      "text/plain": [
       "Index(['ORIGEM', 'CODESTAB', 'CODMUNNASC', 'LOCNASC', 'IDADEMAE', 'ESTCIVMAE',\n",
       "       'ESCMAE', 'CODOCUPMAE', 'QTDFILVIVO', 'QTDFILMORT', 'CODMUNRES',\n",
       "       'GESTACAO', 'GRAVIDEZ', 'PARTO', 'CONSULTAS', 'DTNASC', 'HORANASC',\n",
       "       'SEXO', 'APGAR1', 'APGAR5', 'RACACOR', 'PESO', 'IDANOMAL', 'DTCADASTRO',\n",
       "       'CODANOMAL', 'NUMEROLOTE', 'VERSAOSIST', 'DTRECEBIM', 'DIFDATA',\n",
       "       'DTRECORIGA', 'NATURALMAE', 'CODMUNNATU', 'CODUFNATU', 'ESCMAE2010',\n",
       "       'SERIESCMAE', 'DTNASCMAE', 'RACACORMAE', 'QTDGESTANT', 'QTDPARTNOR',\n",
       "       'QTDPARTCES', 'IDADEPAI', 'DTULTMENST', 'SEMAGESTAC', 'TPMETESTIM',\n",
       "       'CONSPRENAT', 'MESPRENAT', 'TPAPRESENT', 'STTRABPART', 'STCESPARTO',\n",
       "       'TPNASCASSI', 'TPFUNCRESP', 'TPDOCRESP', 'DTDECLARAC', 'ESCMAEAGR1',\n",
       "       'STDNEPIDEM', 'STDNNOVA', 'CODPAISRES', 'TPROBSON', 'PARIDADE',\n",
       "       'KOTELCHUCK', 'CONTADOR', 'munResStatus', 'munResTipo', 'munResNome',\n",
       "       'munResUf', 'munResLat', 'munResLon', 'munResAlt', 'munResArea'],\n",
       "      dtype='object')"
      ]
     },
     "execution_count": 3,
     "metadata": {},
     "output_type": "execute_result"
    }
   ],
   "source": [
    "sinasc_raw.columns"
   ]
  },
  {
   "cell_type": "code",
   "execution_count": 4,
   "metadata": {
    "id": "C7UKJm4slTuD"
   },
   "outputs": [
    {
     "name": "stdout",
     "output_type": "stream",
     "text": [
      "<class 'pandas.core.frame.DataFrame'>\n",
      "RangeIndex: 27028 entries, 0 to 27027\n",
      "Data columns (total 69 columns):\n",
      " #   Column        Non-Null Count  Dtype  \n",
      "---  ------        --------------  -----  \n",
      " 0   ORIGEM        27028 non-null  int64  \n",
      " 1   CODESTAB      26913 non-null  float64\n",
      " 2   CODMUNNASC    27028 non-null  int64  \n",
      " 3   LOCNASC       27028 non-null  int64  \n",
      " 4   IDADEMAE      27028 non-null  int64  \n",
      " 5   ESTCIVMAE     26711 non-null  float64\n",
      " 6   ESCMAE        26716 non-null  object \n",
      " 7   CODOCUPMAE    24121 non-null  float64\n",
      " 8   QTDFILVIVO    25455 non-null  float64\n",
      " 9   QTDFILMORT    24930 non-null  float64\n",
      " 10  CODMUNRES     27028 non-null  int64  \n",
      " 11  GESTACAO      25796 non-null  object \n",
      " 12  GRAVIDEZ      26949 non-null  object \n",
      " 13  PARTO         26979 non-null  object \n",
      " 14  CONSULTAS     27028 non-null  int64  \n",
      " 15  DTNASC        27028 non-null  object \n",
      " 16  HORANASC      27007 non-null  float64\n",
      " 17  SEXO          27024 non-null  object \n",
      " 18  APGAR1        26932 non-null  float64\n",
      " 19  APGAR5        26925 non-null  float64\n",
      " 20  RACACOR       26381 non-null  object \n",
      " 21  PESO          27028 non-null  int64  \n",
      " 22  IDANOMAL      26437 non-null  float64\n",
      " 23  DTCADASTRO    27028 non-null  object \n",
      " 24  CODANOMAL     214 non-null    object \n",
      " 25  NUMEROLOTE    27028 non-null  int64  \n",
      " 26  VERSAOSIST    27028 non-null  object \n",
      " 27  DTRECEBIM     27028 non-null  object \n",
      " 28  DIFDATA       27028 non-null  int64  \n",
      " 29  DTRECORIGA    0 non-null      float64\n",
      " 30  NATURALMAE    26730 non-null  float64\n",
      " 31  CODMUNNATU    26730 non-null  float64\n",
      " 32  CODUFNATU     26730 non-null  float64\n",
      " 33  ESCMAE2010    26779 non-null  float64\n",
      " 34  SERIESCMAE    14318 non-null  float64\n",
      " 35  DTNASCMAE     26988 non-null  float64\n",
      " 36  RACACORMAE    26367 non-null  float64\n",
      " 37  QTDGESTANT    25816 non-null  float64\n",
      " 38  QTDPARTNOR    25149 non-null  float64\n",
      " 39  QTDPARTCES    25237 non-null  float64\n",
      " 40  IDADEPAI      7607 non-null   float64\n",
      " 41  DTULTMENST    16956 non-null  float64\n",
      " 42  SEMAGESTAC    25790 non-null  float64\n",
      " 43  TPMETESTIM    25790 non-null  float64\n",
      " 44  CONSPRENAT    26098 non-null  float64\n",
      " 45  MESPRENAT     24161 non-null  float64\n",
      " 46  TPAPRESENT    26763 non-null  float64\n",
      " 47  STTRABPART    26081 non-null  float64\n",
      " 48  STCESPARTO    26281 non-null  float64\n",
      " 49  TPNASCASSI    26967 non-null  float64\n",
      " 50  TPFUNCRESP    26961 non-null  float64\n",
      " 51  TPDOCRESP     27014 non-null  float64\n",
      " 52  DTDECLARAC    26976 non-null  float64\n",
      " 53  ESCMAEAGR1    26779 non-null  float64\n",
      " 54  STDNEPIDEM    27028 non-null  int64  \n",
      " 55  STDNNOVA      27028 non-null  int64  \n",
      " 56  CODPAISRES    27028 non-null  int64  \n",
      " 57  TPROBSON      27028 non-null  int64  \n",
      " 58  PARIDADE      27028 non-null  int64  \n",
      " 59  KOTELCHUCK    27028 non-null  int64  \n",
      " 60  CONTADOR      27028 non-null  int64  \n",
      " 61  munResStatus  27028 non-null  object \n",
      " 62  munResTipo    27028 non-null  object \n",
      " 63  munResNome    27028 non-null  object \n",
      " 64  munResUf      27028 non-null  object \n",
      " 65  munResLat     27027 non-null  float64\n",
      " 66  munResLon     27027 non-null  float64\n",
      " 67  munResAlt     27027 non-null  float64\n",
      " 68  munResArea    27027 non-null  float64\n",
      "dtypes: float64(38), int64(16), object(15)\n",
      "memory usage: 14.2+ MB\n"
     ]
    }
   ],
   "source": [
    "sinasc_raw.info()"
   ]
  },
  {
   "cell_type": "code",
   "execution_count": null,
   "metadata": {
    "id": "X6JmtT08lTuD"
   },
   "outputs": [],
   "source": []
  },
  {
   "cell_type": "markdown",
   "metadata": {
    "id": "9GOoel3-lTuD"
   },
   "source": [
    "# Tarefa 2"
   ]
  },
  {
   "cell_type": "markdown",
   "metadata": {
    "id": "iNNeWswTlTuD"
   },
   "source": [
    "### 1. Crie 2 faixas de Latitude do município (munResLat) sendo uma acima e outra abaixo de -10.5 e aplique o groupby usando essas faixas como chave e realize operações de soma, media, minimo, maximo, mediana, desvio padrao, variancia pra pelo menos 2 variáveis numéricas ainda não utilizadas"
   ]
  },
  {
   "cell_type": "code",
   "execution_count": 5,
   "metadata": {
    "id": "HXtelNbnlTuE"
   },
   "outputs": [
    {
     "data": {
      "text/plain": [
       "-11.42684      32\n",
       "-13.47656      40\n",
       "-11.82571      43\n",
       "-12.17983      44\n",
       "-9.70554       50\n",
       "-11.91439      54\n",
       "-10.93217      64\n",
       "-10.33887      75\n",
       "-13.49976      80\n",
       "-10.43105      81\n",
       "-11.19624      84\n",
       "-9.85139       93\n",
       "-10.24873      97\n",
       "-11.70974      98\n",
       "-11.90842      99\n",
       "-10.91553     104\n",
       "-9.19187      109\n",
       "-10.61207     112\n",
       "-12.99752     127\n",
       "-12.13178     154\n",
       "-12.55684     162\n",
       "-11.04561     164\n",
       "-10.56842     166\n",
       "-11.76712     168\n",
       "-11.12855     170\n",
       "-10.26310     199\n",
       "-9.37819      205\n",
       "-11.34413     205\n",
       "-13.13056     214\n",
       "-9.71667      226\n",
       "-12.43601     233\n",
       "-13.19503     237\n",
       "-11.72133     261\n",
       "-12.06380     303\n",
       "-11.17321     304\n",
       "-8.78502      337\n",
       "-11.69949     353\n",
       "-11.93554     367\n",
       "-10.41177     432\n",
       "-11.52855     450\n",
       "-9.42556      500\n",
       "-10.20981     583\n",
       "-11.67754     616\n",
       "-10.72357     631\n",
       "-10.77388     781\n",
       "-10.43595     881\n",
       "-11.72226     927\n",
       "-11.43387    1374\n",
       "-12.74137    1590\n",
       "-9.90846     1729\n",
       "-10.88205    2182\n",
       "-8.76889     8437\n",
       "Name: munResLat, dtype: int64"
      ]
     },
     "execution_count": 5,
     "metadata": {},
     "output_type": "execute_result"
    }
   ],
   "source": [
    "# Primeiro analisei os dados da variavel 'munReslat'\n",
    "sinasc_raw['munResLat'].value_counts().sort_values(ascending=True)"
   ]
  },
  {
   "cell_type": "code",
   "execution_count": 6,
   "metadata": {},
   "outputs": [
    {
     "data": {
      "text/plain": [
       "0        (-14.0, -10.5]\n",
       "15408    (-14.0, -10.5]\n",
       "15409    (-14.0, -10.5]\n",
       "15410    (-14.0, -10.5]\n",
       "15411    (-14.0, -10.5]\n",
       "              ...      \n",
       "4332       (-10.5, 0.0]\n",
       "8133       (-10.5, 0.0]\n",
       "8122       (-10.5, 0.0]\n",
       "8904       (-10.5, 0.0]\n",
       "1863                NaN\n",
       "Name: munResLat, Length: 27028, dtype: category\n",
       "Categories (2, interval[float64, right]): [(-14.0, -10.5] < (-10.5, 0.0]]"
      ]
     },
     "execution_count": 6,
     "metadata": {},
     "output_type": "execute_result"
    }
   ],
   "source": [
    "# Utilizei o metodo CUT para separar os dados da altitude uma acima e outra abaixo de -10.5\n",
    "latitude = pd.cut(sinasc_raw['munResLat'],[-14,-10.5,0])\n",
    "latitude.sort_values()"
   ]
  },
  {
   "cell_type": "code",
   "execution_count": 7,
   "metadata": {},
   "outputs": [],
   "source": [
    "# Selecionei duas variaveis numericas para analise: peso e semana gestacional\n",
    "sinasc_1 = sinasc_raw[['PESO', 'SEMAGESTAC']]"
   ]
  },
  {
   "cell_type": "code",
   "execution_count": 8,
   "metadata": {},
   "outputs": [
    {
     "data": {
      "text/html": [
       "<div>\n",
       "<style scoped>\n",
       "    .dataframe tbody tr th:only-of-type {\n",
       "        vertical-align: middle;\n",
       "    }\n",
       "\n",
       "    .dataframe tbody tr th {\n",
       "        vertical-align: top;\n",
       "    }\n",
       "\n",
       "    .dataframe thead tr th {\n",
       "        text-align: left;\n",
       "    }\n",
       "\n",
       "    .dataframe thead tr:last-of-type th {\n",
       "        text-align: right;\n",
       "    }\n",
       "</style>\n",
       "<table border=\"1\" class=\"dataframe\">\n",
       "  <thead>\n",
       "    <tr>\n",
       "      <th></th>\n",
       "      <th colspan=\"6\" halign=\"left\">PESO</th>\n",
       "      <th colspan=\"6\" halign=\"left\">SEMAGESTAC</th>\n",
       "    </tr>\n",
       "    <tr>\n",
       "      <th></th>\n",
       "      <th>sum</th>\n",
       "      <th>mean</th>\n",
       "      <th>min</th>\n",
       "      <th>max</th>\n",
       "      <th>median</th>\n",
       "      <th>std</th>\n",
       "      <th>sum</th>\n",
       "      <th>mean</th>\n",
       "      <th>min</th>\n",
       "      <th>max</th>\n",
       "      <th>median</th>\n",
       "      <th>std</th>\n",
       "    </tr>\n",
       "    <tr>\n",
       "      <th>munResLat</th>\n",
       "      <th></th>\n",
       "      <th></th>\n",
       "      <th></th>\n",
       "      <th></th>\n",
       "      <th></th>\n",
       "      <th></th>\n",
       "      <th></th>\n",
       "      <th></th>\n",
       "      <th></th>\n",
       "      <th></th>\n",
       "      <th></th>\n",
       "      <th></th>\n",
       "    </tr>\n",
       "  </thead>\n",
       "  <tbody>\n",
       "    <tr>\n",
       "      <th>(-14.0, -10.5]</th>\n",
       "      <td>42098594</td>\n",
       "      <td>3240.098053</td>\n",
       "      <td>258</td>\n",
       "      <td>5985</td>\n",
       "      <td>3270.0</td>\n",
       "      <td>531.815114</td>\n",
       "      <td>482665.0</td>\n",
       "      <td>38.545360</td>\n",
       "      <td>19.0</td>\n",
       "      <td>45.0</td>\n",
       "      <td>39.0</td>\n",
       "      <td>2.012435</td>\n",
       "    </tr>\n",
       "    <tr>\n",
       "      <th>(-10.5, 0.0]</th>\n",
       "      <td>45555148</td>\n",
       "      <td>3246.055864</td>\n",
       "      <td>295</td>\n",
       "      <td>5190</td>\n",
       "      <td>3275.0</td>\n",
       "      <td>556.487709</td>\n",
       "      <td>511951.0</td>\n",
       "      <td>38.588302</td>\n",
       "      <td>21.0</td>\n",
       "      <td>45.0</td>\n",
       "      <td>39.0</td>\n",
       "      <td>2.020722</td>\n",
       "    </tr>\n",
       "  </tbody>\n",
       "</table>\n",
       "</div>"
      ],
      "text/plain": [
       "                    PESO                                              \\\n",
       "                     sum         mean  min   max  median         std   \n",
       "munResLat                                                              \n",
       "(-14.0, -10.5]  42098594  3240.098053  258  5985  3270.0  531.815114   \n",
       "(-10.5, 0.0]    45555148  3246.055864  295  5190  3275.0  556.487709   \n",
       "\n",
       "               SEMAGESTAC                                          \n",
       "                      sum       mean   min   max median       std  \n",
       "munResLat                                                          \n",
       "(-14.0, -10.5]   482665.0  38.545360  19.0  45.0   39.0  2.012435  \n",
       "(-10.5, 0.0]     511951.0  38.588302  21.0  45.0   39.0  2.020722  "
      ]
     },
     "execution_count": 8,
     "metadata": {},
     "output_type": "execute_result"
    }
   ],
   "source": [
    "# operações de soma, media, minimo, maximo, mediana, desvio padrao\n",
    "sinasc_1.groupby(latitude).agg({'PESO':['sum', 'mean', 'min', 'max', 'median','std'], 'SEMAGESTAC':['sum', 'mean', 'min', 'max', 'median','std']})"
   ]
  },
  {
   "cell_type": "raw",
   "metadata": {},
   "source": []
  },
  {
   "cell_type": "markdown",
   "metadata": {
    "id": "AK33D0mdlTuE"
   },
   "source": [
    "### 2. Crie 2 faixas da área dos municípios (munResArea) sendo uma acima e outra abaixo de 3000 e aplique o groupby usando essas faixas como chave e realize operações de soma, media, minimo, maximo, mediana, desvio padrao, variancia pra pelo menos 2 variáveis numéricas ainda não utilizadas\n"
   ]
  },
  {
   "cell_type": "code",
   "execution_count": 9,
   "metadata": {},
   "outputs": [
    {
     "data": {
      "text/plain": [
       "6287     34096.394\n",
       "6919     34096.394\n",
       "6941     34096.394\n",
       "6942     34096.394\n",
       "6943     34096.394\n",
       "           ...    \n",
       "19290      459.978\n",
       "19205      459.978\n",
       "19293      459.978\n",
       "5469       459.978\n",
       "1863           NaN\n",
       "Name: munResArea, Length: 27028, dtype: float64"
      ]
     },
     "execution_count": 9,
     "metadata": {},
     "output_type": "execute_result"
    }
   ],
   "source": [
    "sinasc_raw['munResArea'].sort_values(ascending=False)"
   ]
  },
  {
   "cell_type": "code",
   "execution_count": 10,
   "metadata": {
    "id": "qqCXJtYIlTuE"
   },
   "outputs": [
    {
     "data": {
      "text/plain": [
       "27027        (0.0, 3000.0]\n",
       "19314        (0.0, 3000.0]\n",
       "19316        (0.0, 3000.0]\n",
       "19318        (0.0, 3000.0]\n",
       "19319        (0.0, 3000.0]\n",
       "               ...        \n",
       "9786     (3000.0, 35000.0]\n",
       "9785     (3000.0, 35000.0]\n",
       "9794     (3000.0, 35000.0]\n",
       "13514    (3000.0, 35000.0]\n",
       "1863                   NaN\n",
       "Name: munResArea, Length: 27028, dtype: category\n",
       "Categories (2, interval[int64, right]): [(0, 3000] < (3000, 35000]]"
      ]
     },
     "execution_count": 10,
     "metadata": {},
     "output_type": "execute_result"
    }
   ],
   "source": [
    "#Criei 2 faixas de area dos municipios sendo uma acima e outra abaixo de 3000\n",
    "area_mun = pd.cut(sinasc_raw['munResArea'],[0,3000,35000])\n",
    "area_mun.sort_values()"
   ]
  },
  {
   "cell_type": "code",
   "execution_count": 11,
   "metadata": {},
   "outputs": [],
   "source": [
    "# Selecionei duas variaveis numericas para analise: APGAR1 e APGAR5\n",
    "sinasc_2 = sinasc_raw[['APGAR1', 'APGAR5']]"
   ]
  },
  {
   "cell_type": "code",
   "execution_count": 12,
   "metadata": {},
   "outputs": [
    {
     "data": {
      "text/html": [
       "<div>\n",
       "<style scoped>\n",
       "    .dataframe tbody tr th:only-of-type {\n",
       "        vertical-align: middle;\n",
       "    }\n",
       "\n",
       "    .dataframe tbody tr th {\n",
       "        vertical-align: top;\n",
       "    }\n",
       "\n",
       "    .dataframe thead tr th {\n",
       "        text-align: left;\n",
       "    }\n",
       "\n",
       "    .dataframe thead tr:last-of-type th {\n",
       "        text-align: right;\n",
       "    }\n",
       "</style>\n",
       "<table border=\"1\" class=\"dataframe\">\n",
       "  <thead>\n",
       "    <tr>\n",
       "      <th></th>\n",
       "      <th colspan=\"6\" halign=\"left\">APGAR1</th>\n",
       "      <th colspan=\"6\" halign=\"left\">APGAR5</th>\n",
       "    </tr>\n",
       "    <tr>\n",
       "      <th></th>\n",
       "      <th>sum</th>\n",
       "      <th>mean</th>\n",
       "      <th>min</th>\n",
       "      <th>max</th>\n",
       "      <th>median</th>\n",
       "      <th>std</th>\n",
       "      <th>sum</th>\n",
       "      <th>mean</th>\n",
       "      <th>min</th>\n",
       "      <th>max</th>\n",
       "      <th>median</th>\n",
       "      <th>std</th>\n",
       "    </tr>\n",
       "    <tr>\n",
       "      <th>munResArea</th>\n",
       "      <th></th>\n",
       "      <th></th>\n",
       "      <th></th>\n",
       "      <th></th>\n",
       "      <th></th>\n",
       "      <th></th>\n",
       "      <th></th>\n",
       "      <th></th>\n",
       "      <th></th>\n",
       "      <th></th>\n",
       "      <th></th>\n",
       "      <th></th>\n",
       "    </tr>\n",
       "  </thead>\n",
       "  <tbody>\n",
       "    <tr>\n",
       "      <th>(0, 3000]</th>\n",
       "      <td>42070.0</td>\n",
       "      <td>8.073306</td>\n",
       "      <td>0.0</td>\n",
       "      <td>10.0</td>\n",
       "      <td>8.0</td>\n",
       "      <td>1.008790</td>\n",
       "      <td>47560.0</td>\n",
       "      <td>9.130351</td>\n",
       "      <td>0.0</td>\n",
       "      <td>10.0</td>\n",
       "      <td>9.0</td>\n",
       "      <td>0.801124</td>\n",
       "    </tr>\n",
       "    <tr>\n",
       "      <th>(3000, 35000]</th>\n",
       "      <td>177079.0</td>\n",
       "      <td>8.152808</td>\n",
       "      <td>0.0</td>\n",
       "      <td>10.0</td>\n",
       "      <td>8.0</td>\n",
       "      <td>0.978517</td>\n",
       "      <td>199579.0</td>\n",
       "      <td>9.190836</td>\n",
       "      <td>0.0</td>\n",
       "      <td>10.0</td>\n",
       "      <td>9.0</td>\n",
       "      <td>0.787591</td>\n",
       "    </tr>\n",
       "  </tbody>\n",
       "</table>\n",
       "</div>"
      ],
      "text/plain": [
       "                 APGAR1                                          APGAR5  \\\n",
       "                    sum      mean  min   max median       std       sum   \n",
       "munResArea                                                                \n",
       "(0, 3000]       42070.0  8.073306  0.0  10.0    8.0  1.008790   47560.0   \n",
       "(3000, 35000]  177079.0  8.152808  0.0  10.0    8.0  0.978517  199579.0   \n",
       "\n",
       "                                                     \n",
       "                   mean  min   max median       std  \n",
       "munResArea                                           \n",
       "(0, 3000]      9.130351  0.0  10.0    9.0  0.801124  \n",
       "(3000, 35000]  9.190836  0.0  10.0    9.0  0.787591  "
      ]
     },
     "execution_count": 12,
     "metadata": {},
     "output_type": "execute_result"
    }
   ],
   "source": [
    "# operações de soma, media, minimo, maximo, mediana, desvio padrao\n",
    "sinasc_2.groupby(area_mun).agg({'APGAR1':['sum', 'mean', 'min', 'max', 'median','std'], 'APGAR5':['sum', 'mean', 'min', 'max', 'median','std']})"
   ]
  },
  {
   "cell_type": "code",
   "execution_count": null,
   "metadata": {},
   "outputs": [],
   "source": []
  },
  {
   "cell_type": "code",
   "execution_count": 13,
   "metadata": {},
   "outputs": [
    {
     "data": {
      "text/html": [
       "<div>\n",
       "<style scoped>\n",
       "    .dataframe tbody tr th:only-of-type {\n",
       "        vertical-align: middle;\n",
       "    }\n",
       "\n",
       "    .dataframe tbody tr th {\n",
       "        vertical-align: top;\n",
       "    }\n",
       "\n",
       "    .dataframe thead tr th {\n",
       "        text-align: left;\n",
       "    }\n",
       "\n",
       "    .dataframe thead tr:last-of-type th {\n",
       "        text-align: right;\n",
       "    }\n",
       "</style>\n",
       "<table border=\"1\" class=\"dataframe\">\n",
       "  <thead>\n",
       "    <tr>\n",
       "      <th></th>\n",
       "      <th colspan=\"6\" halign=\"left\">CONSPRENAT</th>\n",
       "      <th colspan=\"6\" halign=\"left\">CONSULTAS</th>\n",
       "    </tr>\n",
       "    <tr>\n",
       "      <th></th>\n",
       "      <th>sum</th>\n",
       "      <th>mean</th>\n",
       "      <th>min</th>\n",
       "      <th>max</th>\n",
       "      <th>median</th>\n",
       "      <th>std</th>\n",
       "      <th>sum</th>\n",
       "      <th>mean</th>\n",
       "      <th>min</th>\n",
       "      <th>max</th>\n",
       "      <th>median</th>\n",
       "      <th>std</th>\n",
       "    </tr>\n",
       "    <tr>\n",
       "      <th>munResArea</th>\n",
       "      <th></th>\n",
       "      <th></th>\n",
       "      <th></th>\n",
       "      <th></th>\n",
       "      <th></th>\n",
       "      <th></th>\n",
       "      <th></th>\n",
       "      <th></th>\n",
       "      <th></th>\n",
       "      <th></th>\n",
       "      <th></th>\n",
       "      <th></th>\n",
       "    </tr>\n",
       "  </thead>\n",
       "  <tbody>\n",
       "    <tr>\n",
       "      <th>(0, 3000]</th>\n",
       "      <td>44775.0</td>\n",
       "      <td>8.709395</td>\n",
       "      <td>0.0</td>\n",
       "      <td>99.0</td>\n",
       "      <td>8.0</td>\n",
       "      <td>4.290017</td>\n",
       "      <td>19520</td>\n",
       "      <td>3.740180</td>\n",
       "      <td>1</td>\n",
       "      <td>9</td>\n",
       "      <td>4.0</td>\n",
       "      <td>0.607492</td>\n",
       "    </tr>\n",
       "    <tr>\n",
       "      <th>(3000, 35000]</th>\n",
       "      <td>170662.0</td>\n",
       "      <td>8.143825</td>\n",
       "      <td>0.0</td>\n",
       "      <td>99.0</td>\n",
       "      <td>8.0</td>\n",
       "      <td>5.325530</td>\n",
       "      <td>77142</td>\n",
       "      <td>3.537326</td>\n",
       "      <td>1</td>\n",
       "      <td>9</td>\n",
       "      <td>4.0</td>\n",
       "      <td>0.820967</td>\n",
       "    </tr>\n",
       "  </tbody>\n",
       "</table>\n",
       "</div>"
      ],
      "text/plain": [
       "              CONSPRENAT                                       CONSULTAS  \\\n",
       "                     sum      mean  min   max median       std       sum   \n",
       "munResArea                                                                 \n",
       "(0, 3000]        44775.0  8.709395  0.0  99.0    8.0  4.290017     19520   \n",
       "(3000, 35000]   170662.0  8.143825  0.0  99.0    8.0  5.325530     77142   \n",
       "\n",
       "                                                  \n",
       "                   mean min max median       std  \n",
       "munResArea                                        \n",
       "(0, 3000]      3.740180   1   9    4.0  0.607492  \n",
       "(3000, 35000]  3.537326   1   9    4.0  0.820967  "
      ]
     },
     "execution_count": 13,
     "metadata": {},
     "output_type": "execute_result"
    }
   ],
   "source": [
    "# Selecionei outras duas variaveis numericas para analise: CONSPRENAT e CONSULTAS\n",
    "sinasc_3 = sinasc_raw[['CONSPRENAT', 'CONSULTAS']]\n",
    "sinasc_3.groupby(area_mun).agg({'CONSPRENAT':['sum', 'mean', 'min', 'max', 'median','std'], 'CONSULTAS':['sum', 'mean', 'min', 'max', 'median','std']})"
   ]
  },
  {
   "cell_type": "markdown",
   "metadata": {
    "id": "aWaljnnxlTuE"
   },
   "source": [
    "### 3. Determine faixas na variável munResAlt e aplique o groupby usando essas faixas como chave e realize operações de soma, media, minimo, maximo, mediana, desvio padrao, variancia pra pelo menos 2 variáveis numéricas ainda não utilizadas"
   ]
  },
  {
   "cell_type": "code",
   "execution_count": 14,
   "metadata": {},
   "outputs": [
    {
     "data": {
      "text/plain": [
       "12390    595.0\n",
       "12196    595.0\n",
       "12182    595.0\n",
       "12184    595.0\n",
       "12185    595.0\n",
       "         ...  \n",
       "20295     85.0\n",
       "14979     85.0\n",
       "20904     85.0\n",
       "23218     85.0\n",
       "1863       NaN\n",
       "Name: munResAlt, Length: 27028, dtype: float64"
      ]
     },
     "execution_count": 14,
     "metadata": {},
     "output_type": "execute_result"
    }
   ],
   "source": [
    "sinasc_raw['munResAlt'].sort_values(ascending=False)"
   ]
  },
  {
   "cell_type": "code",
   "execution_count": 15,
   "metadata": {},
   "outputs": [
    {
     "data": {
      "text/plain": [
       "8910     (84.999, 153.0]\n",
       "10110    (84.999, 153.0]\n",
       "10111    (84.999, 153.0]\n",
       "10112    (84.999, 153.0]\n",
       "10113    (84.999, 153.0]\n",
       "              ...       \n",
       "12489     (153.0, 595.0]\n",
       "12488     (153.0, 595.0]\n",
       "12494     (153.0, 595.0]\n",
       "27027     (153.0, 595.0]\n",
       "1863                 NaN\n",
       "Name: munResAlt, Length: 27028, dtype: category\n",
       "Categories (2, interval[float64, right]): [(84.999, 153.0] < (153.0, 595.0]]"
      ]
     },
     "execution_count": 15,
     "metadata": {},
     "output_type": "execute_result"
    }
   ],
   "source": [
    "# Utilizei o metodo qcut para dividir os dados em 2 partes\n",
    "mun_alt = pd.qcut(sinasc_raw['munResAlt'],2)\n",
    "mun_alt.sort_values()"
   ]
  },
  {
   "cell_type": "code",
   "execution_count": 16,
   "metadata": {},
   "outputs": [],
   "source": [
    "# Selecionei duas variaveis numericas para analise: APGAR1 e APGAR5\n",
    "sinasc_4 = sinasc_raw[['QTDFILVIVO', 'QTDFILMORT']]"
   ]
  },
  {
   "cell_type": "code",
   "execution_count": 17,
   "metadata": {},
   "outputs": [
    {
     "data": {
      "text/html": [
       "<div>\n",
       "<style scoped>\n",
       "    .dataframe tbody tr th:only-of-type {\n",
       "        vertical-align: middle;\n",
       "    }\n",
       "\n",
       "    .dataframe tbody tr th {\n",
       "        vertical-align: top;\n",
       "    }\n",
       "\n",
       "    .dataframe thead tr th {\n",
       "        text-align: left;\n",
       "    }\n",
       "\n",
       "    .dataframe thead tr:last-of-type th {\n",
       "        text-align: right;\n",
       "    }\n",
       "</style>\n",
       "<table border=\"1\" class=\"dataframe\">\n",
       "  <thead>\n",
       "    <tr>\n",
       "      <th></th>\n",
       "      <th colspan=\"6\" halign=\"left\">QTDFILVIVO</th>\n",
       "      <th colspan=\"6\" halign=\"left\">QTDFILMORT</th>\n",
       "    </tr>\n",
       "    <tr>\n",
       "      <th></th>\n",
       "      <th>sum</th>\n",
       "      <th>mean</th>\n",
       "      <th>min</th>\n",
       "      <th>max</th>\n",
       "      <th>median</th>\n",
       "      <th>std</th>\n",
       "      <th>sum</th>\n",
       "      <th>mean</th>\n",
       "      <th>min</th>\n",
       "      <th>max</th>\n",
       "      <th>median</th>\n",
       "      <th>std</th>\n",
       "    </tr>\n",
       "    <tr>\n",
       "      <th>munResAlt</th>\n",
       "      <th></th>\n",
       "      <th></th>\n",
       "      <th></th>\n",
       "      <th></th>\n",
       "      <th></th>\n",
       "      <th></th>\n",
       "      <th></th>\n",
       "      <th></th>\n",
       "      <th></th>\n",
       "      <th></th>\n",
       "      <th></th>\n",
       "      <th></th>\n",
       "    </tr>\n",
       "  </thead>\n",
       "  <tbody>\n",
       "    <tr>\n",
       "      <th>(84.999, 153.0]</th>\n",
       "      <td>14406.0</td>\n",
       "      <td>1.182079</td>\n",
       "      <td>0.0</td>\n",
       "      <td>14.0</td>\n",
       "      <td>1.0</td>\n",
       "      <td>1.268260</td>\n",
       "      <td>3520.0</td>\n",
       "      <td>0.300393</td>\n",
       "      <td>0.0</td>\n",
       "      <td>9.0</td>\n",
       "      <td>0.0</td>\n",
       "      <td>0.641421</td>\n",
       "    </tr>\n",
       "    <tr>\n",
       "      <th>(153.0, 595.0]</th>\n",
       "      <td>12420.0</td>\n",
       "      <td>0.936157</td>\n",
       "      <td>0.0</td>\n",
       "      <td>30.0</td>\n",
       "      <td>1.0</td>\n",
       "      <td>1.060187</td>\n",
       "      <td>3123.0</td>\n",
       "      <td>0.236394</td>\n",
       "      <td>0.0</td>\n",
       "      <td>28.0</td>\n",
       "      <td>0.0</td>\n",
       "      <td>0.586806</td>\n",
       "    </tr>\n",
       "  </tbody>\n",
       "</table>\n",
       "</div>"
      ],
      "text/plain": [
       "                QTDFILVIVO                                       QTDFILMORT  \\\n",
       "                       sum      mean  min   max median       std        sum   \n",
       "munResAlt                                                                     \n",
       "(84.999, 153.0]    14406.0  1.182079  0.0  14.0    1.0  1.268260     3520.0   \n",
       "(153.0, 595.0]     12420.0  0.936157  0.0  30.0    1.0  1.060187     3123.0   \n",
       "\n",
       "                                                       \n",
       "                     mean  min   max median       std  \n",
       "munResAlt                                              \n",
       "(84.999, 153.0]  0.300393  0.0   9.0    0.0  0.641421  \n",
       "(153.0, 595.0]   0.236394  0.0  28.0    0.0  0.586806  "
      ]
     },
     "execution_count": 17,
     "metadata": {},
     "output_type": "execute_result"
    }
   ],
   "source": [
    "# operações de soma, media, minimo, maximo, mediana, desvio padrao\n",
    "sinasc_4.groupby(mun_alt).agg({'QTDFILVIVO':['sum', 'mean', 'min', 'max', 'median','std'], 'QTDFILMORT':['sum', 'mean', 'min', 'max', 'median','std']})"
   ]
  },
  {
   "cell_type": "markdown",
   "metadata": {
    "id": "aF1riawJlTuF"
   },
   "source": [
    "### 4. Plote no mesmo grafico ao longo do tempo a idade media das mulheres de cada regiao imediatas de rondonia\n"
   ]
  },
  {
   "cell_type": "code",
   "execution_count": 18,
   "metadata": {
    "id": "6aZM5xKale9c"
   },
   "outputs": [],
   "source": [
    "imediatas = {\n",
    "    \"Candeias do Jamari\": \"Porto Velho\",\n",
    "    \"Guajará-Mirim\": \"Porto Velho\",\n",
    "    \"Itapuã do Oeste\": \"Porto Velho\",\n",
    "    \"Nova Mamoré\": \"Porto Velho\",\n",
    "    \"Porto Velho\": \"Porto Velho\",\n",
    "    \"Ariquemes\": \"Ariquemes\",\n",
    "    \"Alto Paraíso\": \"Ariquemes\",\n",
    "    \"Buritis\": \"Ariquemes\",\n",
    "    \"Cacaulândia\": \"Ariquemes\",\n",
    "    \"Campo Novo de Rondônia\": \"Ariquemes\",\n",
    "    \"Cujubim\": \"Ariquemes\",\n",
    "    \"Monte Negro\": \"Ariquemes\",\n",
    "    \"Rio Crespo\": \"Ariquemes\",\n",
    "    \"Jaru\": \"Jaru\",\n",
    "    \"Governador Jorge Teixeira\": \"Jaru\",\n",
    "    \"Machadinho D'Oeste\": \"Jaru\",\n",
    "    \"Theobroma\": \"Jaru\",\n",
    "    \"Vale do Anari\": \"Jaru\",\n",
    "    \"Alvorada D'Oeste\": \"Ji-Paraná\",\n",
    "    \"Costa Marques\": \"Ji-Paraná\",\n",
    "    \"Ji-Paraná\": \"Ji-Paraná\",\n",
    "    \"Mirante da Serra\": \"Ji-Paraná\",\n",
    "    \"Nova União\": \"Ji-Paraná\",\n",
    "    \"Ouro Preto do Oeste\": \"Ji-Paraná\",\n",
    "    \"Presidente Médici\": \"Ji-Paraná\",\n",
    "    \"São Francisco do Guaporé\": \"Ji-Paraná\",\n",
    "    \"São Miguel do Guaporé\": \"Ji-Paraná\",\n",
    "    \"Seringueiras\": \"Ji-Paraná\",\n",
    "    \"Teixeirópolis\": \"Ji-Paraná\",\n",
    "    \"Urupá\": \"Ji-Paraná\",\n",
    "    \"Vale do Paraíso\": \"Ji-Paraná\",\n",
    "    \"Cacoal\": \"Cacoal\",\n",
    "    \"Alta Floresta D'Oeste\": \"Cacoal\",\n",
    "    \"Alto Alegre dos Parecis\": \"Cacoal\",\n",
    "    \"Castanheiras\": \"Cacoal\",\n",
    "    \"Espigão D'Oeste\": \"Cacoal\",\n",
    "    \"Ministro Andreazza\": \"Cacoal\",\n",
    "    \"Nova Brasilândia D'Oeste\": \"Cacoal\",\n",
    "    \"Novo Horizonte do Oeste\": \"Cacoal\",\n",
    "    \"Parecis\": \"Cacoal\",\n",
    "    \"Pimenta Bueno\": \"Cacoal\",\n",
    "    \"Primavera de Rondônia\": \"Cacoal\",\n",
    "    \"Rolim de Moura\": \"Cacoal\",\n",
    "    \"Santa Luzia D'Oeste\": \"Cacoal\",\n",
    "    \"São Felipe D'Oeste\": \"Cacoal\",\n",
    "    \"Vilhena\": \"Vilhena\",\n",
    "    \"Cabixi\": \"Vilhena\",\n",
    "    \"Cerejeiras\": \"Vilhena\",\n",
    "    \"Chupinguaia\": \"Vilhena\",\n",
    "    \"Colorado do Oeste\": \"Vilhena\",\n",
    "    \"Corumbiara\": \"Vilhena\",\n",
    "    \"Pimenteiras do Oeste\": \"Vilhena\"\n",
    "}"
   ]
  },
  {
   "cell_type": "code",
   "execution_count": 19,
   "metadata": {},
   "outputs": [],
   "source": [
    "# Criei um dataframe filtrando apenas os dados de analise\n",
    "sinasc_5 = sinasc_raw[['IDADEMAE','munResNome']]"
   ]
  },
  {
   "cell_type": "code",
   "execution_count": 20,
   "metadata": {},
   "outputs": [],
   "source": [
    "# Defini a variavel 'munResNome' como index\n",
    "sinasc_5 = sinasc_5.set_index('munResNome')"
   ]
  },
  {
   "cell_type": "code",
   "execution_count": 21,
   "metadata": {},
   "outputs": [
    {
     "data": {
      "text/plain": [
       "Text(0, 0.5, 'Idade Media das Maes')"
      ]
     },
     "execution_count": 21,
     "metadata": {},
     "output_type": "execute_result"
    },
    {
     "data": {
      "image/png": "[encoded data removed]",
      "text/plain": [
       "<Figure size 1500x1000 with 1 Axes>"
      ]
     },
     "metadata": {},
     "output_type": "display_data"
    }
   ],
   "source": [
    "# Agrupei os municipios substituindo pelas regioes imediatas e calculei a media da idade das maes\n",
    "sinasc_5.groupby(imediatas).mean().plot(figsize=[15,10]);\n",
    "plt.ylabel('Idade Media das Maes')"
   ]
  },
  {
   "cell_type": "markdown",
   "metadata": {},
   "source": [
    "Podemos observar nesse grafico que a idade media das maes das Regioes Cacoal e Vilhena é mais alta que das regioes Ariquemes e Jaru."
   ]
  },
  {
   "cell_type": "markdown",
   "metadata": {
    "id": "yt-LIWxblTuF"
   },
   "source": [
    "### 5. Utilize a tabela do link abaixo e crie faixas utilizando o mapping e gere agrupamentos utilizando essas faixas como chave\n"
   ]
  },
  {
   "cell_type": "markdown",
   "metadata": {
    "id": "moZakjgIlTuF"
   },
   "source": [
    "### 5.1 IDH\n",
    "A - https://pt.wikipedia.org/wiki/Lista_de_munic%C3%ADpios_de_Rond%C3%B4nia_por_IDH-M\n"
   ]
  },
  {
   "cell_type": "code",
   "execution_count": 22,
   "metadata": {
    "id": "DaJk66_BlTuF"
   },
   "outputs": [],
   "source": [
    "\n",
    "sinasc_6 = sinasc_raw[['IDADEMAE', 'IDADEPAI','CONSULTAS','munResNome','QTDGESTANT']]\n",
    "sinasc_6 = sinasc_6.set_index('munResNome')\n",
    "mapping_1 = {\n",
    "    \"Porto Velho\": \"IDH-M alto\",\n",
    "    \"Vilhena\": \"IDH-M alto\",\n",
    "    \"Cacoal\": \"IDH-M alto\",\n",
    "    \"Ji-Paraná\": \"IDH-M alto\",\n",
    "    \"Pimenta Bueno\": \"IDH-M alto\",\n",
    "    \"Ariquemes\": \"IDH-M alto\",\n",
    "    \"Rolim de Moura\": \"IDH-M alto\",\n",
    "    \"Cerejeiras\": \"IDH-M alto\",\n",
    "    \"Jaru\": \"IDH-M médio\",\n",
    "    \"Colorado do Oeste\": \"IDH-M médio\",\n",
    "    \"Ouro Preto do Oeste\": \"IDH-M médio\",\n",
    "    \"Espigão d'Oeste\": \"IDH-M médio\",\n",
    "    \"Santa Luzia d'Oeste\": \"IDH-M médio\",\n",
    "    \"Pimenteiras do Oeste\": \"IDH-M médio\",\n",
    "    \"Presidente Médici\": \"IDH-M médio\",\n",
    "    \"Castanheiras\": \"IDH-M médio\",\n",
    "    \"Guajará-Mirim\": \"IDH-M médio\",\n",
    "    \"Chupinguaia\": \"IDH-M médio\",\n",
    "    \"Cabixi\": \"IDH-M médio\",\n",
    "    \"Candeias do Jamari\": \"IDH-M médio\",\n",
    "    \"São Felipe d'Oeste\": \"IDH-M médio\",\n",
    "    \"Cacaulândia\": \"IDH-M médio\",\n",
    "    \"São Miguel do Guaporé\": \"IDH-M médio\",\n",
    "    \"Mirante da Serra\": \"IDH-M médio\",\n",
    "    \"Alvorada d'Oeste\": \"IDH-M médio\",\n",
    "    \"Teixeirópolis\": \"IDH-M médio\",\n",
    "    \"Nova Brasilândia d'Oeste\": \"IDH-M médio\",\n",
    "    \"Rio Crespo\": \"IDH-M médio\",\n",
    "    \"Primavera de Rondônia\": \"IDH-M médio\",\n",
    "    \"Alta Floresta d'Oeste\": \"IDH-M médio\",\n",
    "    \"Ministro Andreazza\": \"IDH-M médio\",\n",
    "    \"Novo Horizonte do Oeste\": \"IDH-M médio\",\n",
    "    \"Vale do Paraíso\": \"IDH-M médio\",\n",
    "    \"Alto Paraíso\": \"IDH-M médio\",\n",
    "    \"Parecis\": \"IDH-M médio\",\n",
    "    \"Buritis\": \"IDH-M médio\",\n",
    "    \"Itapuã do Oeste\": \"IDH-M médio\",\n",
    "    \"Corumbiara\": \"IDH-M médio\",\n",
    "    \"Cujubim\": \"IDH-M médio\",\n",
    "    \"Costa Marques\": \"IDH-M médio\",\n",
    "    \"São Francisco do Guaporé\": \"IDH-M médio\",\n",
    "    \"Urupá\": \"IDH-M médio\",\n",
    "    \"Monte Negro\": \"IDH-M médio\",\n",
    "    \"Seringueiras\": \"IDH-M baixo\",\n",
    "    \"Governador Jorge Teixeira\": \"IDH-M baixo\",\n",
    "    \"Machadinho d'Oeste\": \"IDH-M baixo\",\n",
    "    \"Campo Novo de Rondônia\": \"IDH-M baixo\",\n",
    "    \"Alto Alegre dos Parecis\": \"IDH-M baixo\",\n",
    "    \"Theobroma\": \"IDH-M baixo\",\n",
    "    \"Nova União\": \"IDH-M baixo\",\n",
    "    \"Nova Mamoré\": \"IDH-M baixo\",\n",
    "    \"Vale do Anari\": \"IDH-M baixo\"\n",
    "}"
   ]
  },
  {
   "cell_type": "code",
   "execution_count": 23,
   "metadata": {},
   "outputs": [
    {
     "data": {
      "text/html": [
       "<div>\n",
       "<style scoped>\n",
       "    .dataframe tbody tr th:only-of-type {\n",
       "        vertical-align: middle;\n",
       "    }\n",
       "\n",
       "    .dataframe tbody tr th {\n",
       "        vertical-align: top;\n",
       "    }\n",
       "\n",
       "    .dataframe thead th {\n",
       "        text-align: right;\n",
       "    }\n",
       "</style>\n",
       "<table border=\"1\" class=\"dataframe\">\n",
       "  <thead>\n",
       "    <tr style=\"text-align: right;\">\n",
       "      <th></th>\n",
       "      <th>IDADEMAE</th>\n",
       "      <th>IDADEPAI</th>\n",
       "      <th>CONSULTAS</th>\n",
       "      <th>QTDGESTANT</th>\n",
       "    </tr>\n",
       "    <tr>\n",
       "      <th>munResNome</th>\n",
       "      <th></th>\n",
       "      <th></th>\n",
       "      <th></th>\n",
       "      <th></th>\n",
       "    </tr>\n",
       "  </thead>\n",
       "  <tbody>\n",
       "    <tr>\n",
       "      <th>IDH-M alto</th>\n",
       "      <td>26.293646</td>\n",
       "      <td>31.083188</td>\n",
       "      <td>3.529487</td>\n",
       "      <td>1.277397</td>\n",
       "    </tr>\n",
       "    <tr>\n",
       "      <th>IDH-M baixo</th>\n",
       "      <td>25.269231</td>\n",
       "      <td>30.402332</td>\n",
       "      <td>3.632730</td>\n",
       "      <td>1.225211</td>\n",
       "    </tr>\n",
       "    <tr>\n",
       "      <th>IDH-M médio</th>\n",
       "      <td>25.798741</td>\n",
       "      <td>31.566446</td>\n",
       "      <td>3.660722</td>\n",
       "      <td>1.308128</td>\n",
       "    </tr>\n",
       "  </tbody>\n",
       "</table>\n",
       "</div>"
      ],
      "text/plain": [
       "              IDADEMAE   IDADEPAI  CONSULTAS  QTDGESTANT\n",
       "munResNome                                              \n",
       "IDH-M alto   26.293646  31.083188   3.529487    1.277397\n",
       "IDH-M baixo  25.269231  30.402332   3.632730    1.225211\n",
       "IDH-M médio  25.798741  31.566446   3.660722    1.308128"
      ]
     },
     "execution_count": 23,
     "metadata": {},
     "output_type": "execute_result"
    }
   ],
   "source": [
    "sinasc_6.groupby(mapping_1).mean()"
   ]
  },
  {
   "cell_type": "markdown",
   "metadata": {
    "id": "zhtI6CxtlTuH"
   },
   "source": [
    "### 5.2 IFDM\n",
    "B - https://pt.wikipedia.org/wiki/Lista_de_munic%C3%ADpios_de_Rond%C3%B4nia_por_IFDM\n"
   ]
  },
  {
   "cell_type": "code",
   "execution_count": 24,
   "metadata": {
    "id": "1AVkd1M3lTuI"
   },
   "outputs": [],
   "source": [
    "mapping_2 = {\n",
    "    \"Ariquemes\": \"Desenvolvimento moderado\",\n",
    "    \"Vilhena\": \"Desenvolvimento moderado\",\n",
    "    \"Pimenta Bueno\": \"Desenvolvimento moderado\",\n",
    "    \"Porto Velho\": \"Desenvolvimento moderado\",\n",
    "    \"Ji-Paraná\": \"Desenvolvimento moderado\",\n",
    "    \"Cacoal\": \"Desenvolvimento moderado\",\n",
    "    \"Santa Luzia d'Oeste\": \"Desenvolvimento moderado\",\n",
    "    \"Rolim de Moura\": \"Desenvolvimento moderado\",\n",
    "    \"Chupinguaia\": \"Desenvolvimento moderado\",\n",
    "    \"São Miguel do Guaporé\": \"Desenvolvimento moderado\",\n",
    "    'Pimenteiras do Oeste': \"Desenvolvimento moderado\",\n",
    "    \"Teixeirópolis\": \"Desenvolvimento moderado\",\n",
    "    \"Colorado do Oeste\": \"Desenvolvimento moderado\",\n",
    "    \"Jaru\": \"Desenvolvimento moderado\",\n",
    "    \"Rio Crespo\": \"Desenvolvimento moderado\",\n",
    "    'Primavera de Rondônia': \"Desenvolvimento moderado\",\n",
    "    \"Alta Floresta d'Oeste\": \"Desenvolvimento moderado\",\n",
    "    \"Ouro Preto do Oeste\": \"Desenvolvimento moderado\",\n",
    "    \"São Francisco do Guaporé\": \"Desenvolvimento moderado\",\n",
    "    \"Candeias do Jamari\": \"Desenvolvimento moderado\",\n",
    "    \"Buritis\": \"Desenvolvimento moderado\",\n",
    "    \"São Felipe d'Oeste\": \"Desenvolvimento moderado\",\n",
    "    \"Presidente Médici\": \"Desenvolvimento moderado\",\n",
    "    \"Cerejeiras\": \"Desenvolvimento moderado\",\n",
    "    \"Monte Negro\": \"Desenvolvimento moderado\",\n",
    "    \"Urupá\": \"Desenvolvimento moderado\",\n",
    "    \"Espigão d'Oeste\": \"Desenvolvimento regular\",\n",
    "    \"Seringueiras\": \"Desenvolvimento regular\",\n",
    "    \"Alvorada d'Oeste\": \"Desenvolvimento regular\",\n",
    "    \"Itapuã do Oeste\": \"Desenvolvimento regular\",\n",
    "    \"Cabixi\": \"Desenvolvimento regular\",\n",
    "    \"Novo Horizonte do Oeste\": \"Desenvolvimento regular\",\n",
    "    \"Nova Brasilândia d'Oeste\": \"Desenvolvimento regular\",\n",
    "    \"Vale do Paraíso\": \"Desenvolvimento regular\",\n",
    "    \"Corumbiara\": \"Desenvolvimento regular\",\n",
    "    \"Alto Paraíso\": \"Desenvolvimento regular\",\n",
    "    \"Cacaulândia\": \"Desenvolvimento regular\",\n",
    "    \"Vale do Anari\": \"Desenvolvimento regular\",\n",
    "    \"Ministro Andreazza\": \"Desenvolvimento regular\",\n",
    "    \"Costa Marques\": \"Desenvolvimento regular\",\n",
    "    \"Nova União\": \"Desenvolvimento regular\",\n",
    "    \"Guajará-Mirim\": \"Desenvolvimento regular\",\n",
    "    \"Mirante da Serra\": \"Desenvolvimento regular\",\n",
    "    \"Parecis\": \"Desenvolvimento regular\",\n",
    "    \"Castanheiras\": \"Desenvolvimento regular\",\n",
    "    \"Theobroma\": \"Desenvolvimento regular\",\n",
    "    \"Machadinho d'Oeste\": \"Desenvolvimento regular\",\n",
    "    \"Campo Novo de Rondônia\": \"Desenvolvimento regular\",\n",
    "    \"Nova Mamoré\": \"Desenvolvimento regular\",\n",
    "    \"Cujubim\": \"Desenvolvimento regular\",\n",
    "    \"Alto Alegre dos Parecis\": \"Desenvolvimento regular\",\n",
    "    \"Governador Jorge Teixeira\": \"Desenvolvimento regular\"\n",
    "}\n",
    "    "
   ]
  },
  {
   "cell_type": "code",
   "execution_count": 25,
   "metadata": {},
   "outputs": [
    {
     "data": {
      "text/html": [
       "<div>\n",
       "<style scoped>\n",
       "    .dataframe tbody tr th:only-of-type {\n",
       "        vertical-align: middle;\n",
       "    }\n",
       "\n",
       "    .dataframe tbody tr th {\n",
       "        vertical-align: top;\n",
       "    }\n",
       "\n",
       "    .dataframe thead th {\n",
       "        text-align: right;\n",
       "    }\n",
       "</style>\n",
       "<table border=\"1\" class=\"dataframe\">\n",
       "  <thead>\n",
       "    <tr style=\"text-align: right;\">\n",
       "      <th></th>\n",
       "      <th>IDADEMAE</th>\n",
       "      <th>IDADEPAI</th>\n",
       "      <th>CONSULTAS</th>\n",
       "      <th>QTDGESTANT</th>\n",
       "    </tr>\n",
       "    <tr>\n",
       "      <th>munResNome</th>\n",
       "      <th></th>\n",
       "      <th></th>\n",
       "      <th></th>\n",
       "      <th></th>\n",
       "    </tr>\n",
       "  </thead>\n",
       "  <tbody>\n",
       "    <tr>\n",
       "      <th>Desenvolvimento moderado</th>\n",
       "      <td>561938</td>\n",
       "      <td>179957.0</td>\n",
       "      <td>76542</td>\n",
       "      <td>25611.0</td>\n",
       "    </tr>\n",
       "    <tr>\n",
       "      <th>Desenvolvimento regular</th>\n",
       "      <td>93135</td>\n",
       "      <td>25327.0</td>\n",
       "      <td>13029</td>\n",
       "      <td>5044.0</td>\n",
       "    </tr>\n",
       "  </tbody>\n",
       "</table>\n",
       "</div>"
      ],
      "text/plain": [
       "                          IDADEMAE  IDADEPAI  CONSULTAS  QTDGESTANT\n",
       "munResNome                                                         \n",
       "Desenvolvimento moderado    561938  179957.0      76542     25611.0\n",
       "Desenvolvimento regular      93135   25327.0      13029      5044.0"
      ]
     },
     "execution_count": 25,
     "metadata": {},
     "output_type": "execute_result"
    }
   ],
   "source": [
    "sinasc_6.groupby(mapping_2).sum()"
   ]
  },
  {
   "cell_type": "markdown",
   "metadata": {
    "id": "BwdS46EWlTuI"
   },
   "source": [
    "### 5.3 PIB\n",
    "C - https://pt.wikipedia.org/wiki/Lista_de_munic%C3%ADpios_de_Rond%C3%B4nia_por_PIB\n"
   ]
  },
  {
   "cell_type": "code",
   "execution_count": 26,
   "metadata": {},
   "outputs": [],
   "source": [
    "mapping_pib = {\n",
    "    \"Porto Velho\": \"Acima de 1 Bilhão\",\n",
    "    \"Ji-Paraná\": \"Acima de 1 Bilhão\",\n",
    "    \"Vilhena\": \"Acima de 1 Bilhão\",\n",
    "    \"Ariquemes\": \"Acima de 1 Bilhão\",\n",
    "    \"Cacoal\": \"Acima de 1 Bilhão\",\n",
    "    'Jaru': \"Acima de 1 Bilhão\",\n",
    "    \"Rolim de Moura\": \"Acima de 1 Bilhão\",\n",
    "    \"Pimenta Bueno\": \"Acima de 1 Bilhão\",\n",
    "    \"Guajará-Mirim\": \"Acima de 500 Milhões\",\n",
    "    \"Ouro Preto do Oeste\": \"Acima de 500 Milhões\",\n",
    "    \"Buritis\": \"Acima de 500 Milhões\",\n",
    "    \"Machadinho do Oeste\": \"Acima de 500 Milhões\",\n",
    "    \"Espigão d'Oeste\": \"Acima de 500 Milhões\",\n",
    "    \"São Miguel do Guaporé\": \"Acima de 500 Milhões\",\n",
    "    \"Candeias do Jamari\": \"Acima de 500 Milhões\",\n",
    "    \"Nova Mamoré\": \"Acima de 500 Milhões\",\n",
    "    \"Cerejeiras\": \"Acima de 500 Milhões\",\n",
    "    \"Alta Floresta do Oeste\": \"Acima de 300 Milhões\",\n",
    "    \"Presidente Médici\": \"Acima de 300 Milhões\",\n",
    "    \"Cujubim\": \"Acima de 300 Milhões\",\n",
    "    \"Nova Brasilândia do Oeste\": \"Acima de 300 Milhões\",\n",
    "    \"Alto Paraíso\": \"Acima de 300 Milhões\",\n",
    "    \"São Francisco do Guaporé\": \"Acima de 300 Milhões\",\n",
    "    \"Colorado do Oeste\": \"Acima de 300 Milhões\",\n",
    "    \"Monte Negro\": \"Acima de 200 Milhões\",\n",
    "    \"Alto Alegre dos Parecis\": \"Acima de 200 Milhões\",\n",
    "    \"Campo Novo de Rondônia\": \"Acima de 200 Milhões\",\n",
    "    \"Alvorada do Oeste\": \"Acima de 200 Milhões\",\n",
    "    \"Chupinguaia\": \"Acima de 100 Milhões\",\n",
    "    \"Corumbiara\": \"Acima de 100 Milhões\",\n",
    "    \"Ministro Andreazza\": \"Acima de 100 Milhões\",\n",
    "    \"Urupá\": \"Acima de 100 Milhões\",\n",
    "    \"Costa Marques\": \"Acima de 100 Milhões\",\n",
    "    \"Seringueiras\": \"Acima de 100 Milhões\",\n",
    "    \"Mirante da Serra\": \"Acima de 100 Milhões\",\n",
    "    \"Governador Jorge Teixeira\": \"Acima de 100 Milhões\",\n",
    "    \"Theobroma\": \"Acima de 100 Milhões\",\n",
    "    \"Santa Luzia do Oeste\": \"Acima de 100 Milhões\",\n",
    "    \"Novo Horizonte do Oeste\": \"Acima de 100 Milhões\",\n",
    "    \"Itapuã do Oeste\": \"Acima de 100 Milhões\",\n",
    "    \"Vale do Paraíso\": \"Acima de 100 Milhões\",\n",
    "    \"Cacaulândia\": \"Acima de 100 Milhões\",\n",
    "    \"Cabixi\": \"Acima de 100 Milhões\",\n",
    "    \"Vale do Anari\": \"Acima de 100 Milhões\",\n",
    "    \"Nova União\": \"Até 100 Milhões\",\n",
    "    \"Parecis\": \"Até 100 Milhões\",\n",
    "    \"Rio Crespo\": \"Até 100 Milhões\",\n",
    "    \"Pimenteiras do Oeste\": \"Até 100 Milhões\",\n",
    "    \"Teixeirópolis\": \"Até 100 Milhões\",\n",
    "    \"São Felipe do Oeste\": \"Até 100 Milhões\",\n",
    "    \"Castanheiras\": \"Até 100 Milhões\",\n",
    "    \"Primavera de Rondônia\": \"Até 100 Milhões\"\n",
    "}"
   ]
  },
  {
   "cell_type": "code",
   "execution_count": 27,
   "metadata": {},
   "outputs": [
    {
     "data": {
      "text/html": [
       "<div>\n",
       "<style scoped>\n",
       "    .dataframe tbody tr th:only-of-type {\n",
       "        vertical-align: middle;\n",
       "    }\n",
       "\n",
       "    .dataframe tbody tr th {\n",
       "        vertical-align: top;\n",
       "    }\n",
       "\n",
       "    .dataframe thead th {\n",
       "        text-align: right;\n",
       "    }\n",
       "</style>\n",
       "<table border=\"1\" class=\"dataframe\">\n",
       "  <thead>\n",
       "    <tr style=\"text-align: right;\">\n",
       "      <th></th>\n",
       "      <th>IDADEMAE</th>\n",
       "      <th>IDADEPAI</th>\n",
       "      <th>CONSULTAS</th>\n",
       "      <th>QTDGESTANT</th>\n",
       "    </tr>\n",
       "    <tr>\n",
       "      <th>munResNome</th>\n",
       "      <th></th>\n",
       "      <th></th>\n",
       "      <th></th>\n",
       "      <th></th>\n",
       "    </tr>\n",
       "  </thead>\n",
       "  <tbody>\n",
       "    <tr>\n",
       "      <th>Acima de 1 Bilhão</th>\n",
       "      <td>26.265562</td>\n",
       "      <td>31.108387</td>\n",
       "      <td>3.541103</td>\n",
       "      <td>1.268052</td>\n",
       "    </tr>\n",
       "    <tr>\n",
       "      <th>Acima de 100 Milhões</th>\n",
       "      <td>25.638424</td>\n",
       "      <td>31.744348</td>\n",
       "      <td>3.747437</td>\n",
       "      <td>1.233388</td>\n",
       "    </tr>\n",
       "    <tr>\n",
       "      <th>Acima de 200 Milhões</th>\n",
       "      <td>25.146435</td>\n",
       "      <td>30.187500</td>\n",
       "      <td>3.689788</td>\n",
       "      <td>1.145669</td>\n",
       "    </tr>\n",
       "    <tr>\n",
       "      <th>Acima de 300 Milhões</th>\n",
       "      <td>25.706070</td>\n",
       "      <td>30.819149</td>\n",
       "      <td>3.737220</td>\n",
       "      <td>1.262651</td>\n",
       "    </tr>\n",
       "    <tr>\n",
       "      <th>Acima de 500 Milhões</th>\n",
       "      <td>25.785927</td>\n",
       "      <td>31.381955</td>\n",
       "      <td>3.525939</td>\n",
       "      <td>1.429716</td>\n",
       "    </tr>\n",
       "    <tr>\n",
       "      <th>Até 100 Milhões</th>\n",
       "      <td>26.519894</td>\n",
       "      <td>31.626126</td>\n",
       "      <td>3.718833</td>\n",
       "      <td>1.171123</td>\n",
       "    </tr>\n",
       "  </tbody>\n",
       "</table>\n",
       "</div>"
      ],
      "text/plain": [
       "                       IDADEMAE   IDADEPAI  CONSULTAS  QTDGESTANT\n",
       "munResNome                                                       \n",
       "Acima de 1 Bilhão     26.265562  31.108387   3.541103    1.268052\n",
       "Acima de 100 Milhões  25.638424  31.744348   3.747437    1.233388\n",
       "Acima de 200 Milhões  25.146435  30.187500   3.689788    1.145669\n",
       "Acima de 300 Milhões  25.706070  30.819149   3.737220    1.262651\n",
       "Acima de 500 Milhões  25.785927  31.381955   3.525939    1.429716\n",
       "Até 100 Milhões       26.519894  31.626126   3.718833    1.171123"
      ]
     },
     "execution_count": 27,
     "metadata": {},
     "output_type": "execute_result"
    }
   ],
   "source": [
    "sinasc_6.groupby(mapping_pib).mean()"
   ]
  },
  {
   "cell_type": "markdown",
   "metadata": {
    "id": "bdWGW_xtlTuI"
   },
   "source": [
    "### Analise as respostas encontradas, tire algum insight delas, conte pra gente algo encontrado nos dados."
   ]
  },
  {
   "cell_type": "markdown",
   "metadata": {
    "id": "shZvokfBlTuI"
   },
   "source": [
    "Exemplo:\n",
    "- Ah, descobri que a idade mediana das mulheres que deram a luz no ano de 2019 dos municipios com o PIB mais alto é a maior dentre todas."
   ]
  },
  {
   "cell_type": "markdown",
   "metadata": {
    "id": "f8P7BYYglTuJ"
   },
   "source": [
    "- Descobri que a quantidade de gravidez e de consultas realizadas em Municipios de Desenvolvimento Moderado foi mais que 5x maior que em Municipios de Desenvolvimento regular"
   ]
  },
  {
   "cell_type": "markdown",
   "metadata": {},
   "source": [
    "- Em municipios de IDH-M mais alto, a idade média da mae é maior que IDH-M mais baixo ou médio."
   ]
  }
 ],
 "metadata": {
  "colab": {
   "provenance": []
  },
  "kernelspec": {
   "display_name": "Python 3 (ipykernel)",
   "language": "python",
   "name": "python3"
  },
  "language_info": {
   "codemirror_mode": {
    "name": "ipython",
    "version": 3
   },
   "file_extension": ".py",
   "mimetype": "text/x-python",
   "name": "python",
   "nbconvert_exporter": "python",
   "pygments_lexer": "ipython3",
   "version": "3.10.9"
  },
  "varInspector": {
   "cols": {
    "lenName": 16,
    "lenType": 16,
    "lenVar": 40
   },
   "kernels_config": {
    "python": {
     "delete_cmd_postfix": "",
     "delete_cmd_prefix": "del ",
     "library": "var_list.py",
     "varRefreshCmd": "print(var_dic_list())"
    },
    "r": {
     "delete_cmd_postfix": ") ",
     "delete_cmd_prefix": "rm(",
     "library": "var_list.r",
     "varRefreshCmd": "cat(var_dic_list()) "
    }
   },
   "types_to_exclude": [
    "module",
    "function",
    "builtin_function_or_method",
    "instance",
    "_Feature"
   ],
   "window_display": false
  }
 },
 "nbformat": 4,
 "nbformat_minor": 1
}
